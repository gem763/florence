{
 "cells": [
  {
   "cell_type": "code",
   "execution_count": 1,
   "metadata": {},
   "outputs": [],
   "source": [
    "import pandas as pd\n",
    "import numpy as np\n",
    "import yfinance as yf\n",
    "import matplotlib.pyplot as plt\n",
    "from IPython.core.debugger import set_trace\n",
    "from pytrends.request import TrendReq"
   ]
  },
  {
   "cell_type": "markdown",
   "metadata": {},
   "source": [
    "# lookup table"
   ]
  },
  {
   "cell_type": "code",
   "execution_count": 2,
   "metadata": {},
   "outputs": [
    {
     "data": {
      "text/html": [
       "<div>\n",
       "<style scoped>\n",
       "    .dataframe tbody tr th:only-of-type {\n",
       "        vertical-align: middle;\n",
       "    }\n",
       "\n",
       "    .dataframe tbody tr th {\n",
       "        vertical-align: top;\n",
       "    }\n",
       "\n",
       "    .dataframe thead th {\n",
       "        text-align: right;\n",
       "    }\n",
       "</style>\n",
       "<table border=\"1\" class=\"dataframe\">\n",
       "  <thead>\n",
       "    <tr style=\"text-align: right;\">\n",
       "      <th>p</th>\n",
       "      <th>5</th>\n",
       "      <th>4</th>\n",
       "      <th>3</th>\n",
       "      <th>2</th>\n",
       "      <th>1</th>\n",
       "    </tr>\n",
       "    <tr>\n",
       "      <th>gtrend</th>\n",
       "      <th></th>\n",
       "      <th></th>\n",
       "      <th></th>\n",
       "      <th></th>\n",
       "      <th></th>\n",
       "    </tr>\n",
       "  </thead>\n",
       "  <tbody>\n",
       "    <tr>\n",
       "      <th>5</th>\n",
       "      <td>N</td>\n",
       "      <td>S</td>\n",
       "      <td>SS</td>\n",
       "      <td>S</td>\n",
       "      <td>N</td>\n",
       "    </tr>\n",
       "    <tr>\n",
       "      <th>4</th>\n",
       "      <td>B</td>\n",
       "      <td>N</td>\n",
       "      <td>S</td>\n",
       "      <td>SS</td>\n",
       "      <td>S</td>\n",
       "    </tr>\n",
       "    <tr>\n",
       "      <th>3</th>\n",
       "      <td>SB</td>\n",
       "      <td>B</td>\n",
       "      <td>N</td>\n",
       "      <td>S</td>\n",
       "      <td>SS</td>\n",
       "    </tr>\n",
       "    <tr>\n",
       "      <th>2</th>\n",
       "      <td>B</td>\n",
       "      <td>SB</td>\n",
       "      <td>B</td>\n",
       "      <td>N</td>\n",
       "      <td>S</td>\n",
       "    </tr>\n",
       "    <tr>\n",
       "      <th>1</th>\n",
       "      <td>N</td>\n",
       "      <td>B</td>\n",
       "      <td>SB</td>\n",
       "      <td>B</td>\n",
       "      <td>N</td>\n",
       "    </tr>\n",
       "  </tbody>\n",
       "</table>\n",
       "</div>"
      ],
      "text/plain": [
       "p        5   4   3   2   1\n",
       "gtrend                    \n",
       "5        N   S  SS   S   N\n",
       "4        B   N   S  SS   S\n",
       "3       SB   B   N   S  SS\n",
       "2        B  SB   B   N   S\n",
       "1        N   B  SB   B   N"
      ]
     },
     "execution_count": 2,
     "metadata": {},
     "output_type": "execute_result"
    }
   ],
   "source": [
    "lookup = [\n",
    "    ['N', 'S', 'SS','S', 'N'],\n",
    "    ['B', 'N', 'S', 'SS','S'],\n",
    "    ['SB','B', 'N', 'S', 'SS'],\n",
    "    ['B', 'SB','B', 'N', 'S'],\n",
    "    ['N', 'B', 'SB','B', 'N']\n",
    "]\n",
    "lookup = pd.DataFrame(lookup, index=[5,4,3,2,1], columns=[5,4,3,2,1])\n",
    "lookup.index.name = 'gtrend'\n",
    "lookup.columns.name = 'p'; lookup"
   ]
  },
  {
   "cell_type": "code",
   "execution_count": 130,
   "metadata": {},
   "outputs": [],
   "source": [
    "def get_gtrend(search, asof, nweeks=52*5):\n",
    "    gtrend_from = pd.Timestamp(asof) - pd.Timedelta(weeks=nweeks)\n",
    "    timeframe = str(gtrend_from.date()) + ' ' + asof #today 5-y'\n",
    "    pytrends = TrendReq()\n",
    "    pytrends.build_payload(search, timeframe=timeframe)\n",
    "    resp = pytrends.interest_over_time()\n",
    "    gtrend = resp[search].sum(axis=1)\n",
    "    gtrend.index = gtrend.index.shift(7, freq='D')\n",
    "    return gtrend\n",
    "\n",
    "\n",
    "def get_p(symbol, gtrend):\n",
    "    _start = gtrend.index[0] - pd.Timedelta(weeks=1)\n",
    "    _end = gtrend.index[-1] + pd.Timedelta(weeks=1)\n",
    "    p = yf.download([symbol], start=_start, end=_end, thread=True)['Adj Close']\n",
    "    return p.reindex(gtrend.index, method='ffill')\n",
    "\n",
    "  \n",
    "def get_signal3(s):\n",
    "    def evaluate(x):\n",
    "        if x['52wh']:\n",
    "            return 5\n",
    "\n",
    "        elif 0 < x['4w'] < x['8w'] < x['12w']:\n",
    "            return 4\n",
    "\n",
    "        elif x['52wl']:\n",
    "            return 1\n",
    "\n",
    "        elif 0 > x['4w'] > x['8w'] > x['12w']:\n",
    "            return 2\n",
    "\n",
    "        else:\n",
    "            return 3\n",
    "    \n",
    "    status = pd.DataFrame()\n",
    "    status['4w'] = s.pct_change(4)\n",
    "    status['8w'] = s.pct_change(8)\n",
    "    status['12w'] = s.pct_change(12)\n",
    "    status['52wh'] = (s.rolling(52, min_periods=52).max() == s)\n",
    "    status['52wl'] = (s.rolling(52, min_periods=52).min() == s)\n",
    "    status = status.iloc[51:]\n",
    "    \n",
    "    return status.apply(evaluate, axis=1)\n",
    "    \n",
    "    \n",
    "def get_signal2(s):\n",
    "    def evaluate(x):\n",
    "        if x['52wh']:\n",
    "            return 5\n",
    "\n",
    "        elif 0 < x['4w'] < x['13w'] < x['26w']:\n",
    "            return 4\n",
    "\n",
    "        elif x['52wl']:\n",
    "            return 1\n",
    "\n",
    "        elif 0 > x['4w'] > x['13w'] > x['26w']:\n",
    "            return 2\n",
    "\n",
    "        else:\n",
    "            return 3\n",
    "    \n",
    "    status = pd.DataFrame()\n",
    "    status['4w'] = s.pct_change(4)\n",
    "    status['13w'] = s.pct_change(13)\n",
    "    status['26w'] = s.pct_change(26)\n",
    "    status['52wh'] = (s.rolling(52, min_periods=52).max() == s)\n",
    "    status['52wl'] = (s.rolling(52, min_periods=52).min() == s)\n",
    "    status = status.iloc[51:]\n",
    "    \n",
    "    return status.apply(evaluate, axis=1)\n",
    "\n",
    "\n",
    "def get_signal(s):\n",
    "    def evaluate(x):\n",
    "        if x['52wh']:\n",
    "            return 5\n",
    "\n",
    "        elif 0 < x['1w'] < x['4w'] < x['13w']:\n",
    "            return 4\n",
    "\n",
    "        elif x['52wl']:\n",
    "            return 1\n",
    "\n",
    "        elif 0 > x['1w'] > x['4w'] > x['13w']:\n",
    "            return 2\n",
    "\n",
    "        else:\n",
    "            return 3\n",
    "    \n",
    "    status = pd.DataFrame()\n",
    "    status['1w'] = s.pct_change(1)\n",
    "    status['4w'] = s.pct_change(4)\n",
    "    status['13w'] = s.pct_change(13)\n",
    "    status['52wh'] = (s.rolling(52, min_periods=52).max() == s)\n",
    "    status['52wl'] = (s.rolling(52, min_periods=52).min() == s)\n",
    "    status = status.iloc[51:]\n",
    "    \n",
    "    return status.apply(evaluate, axis=1)\n",
    "\n",
    "\n",
    "def plot_p_gtrend(p, gtrend, nback=52):\n",
    "    p.iloc[-nback:].plot(label='p', legend=True)\n",
    "    gtrend.iloc[-nback:].plot(secondary_y=True, label='gtrend', legend=True)\n",
    "\n",
    "    \n",
    "def plot_buysell(buysell, p, nback=52):\n",
    "    f, ax = plt.subplots(figsize=(8,5))\n",
    "    p.iloc[-nback:].plot(color='w', lw=3, ax=ax)\n",
    "    sigs = buysell.iloc[-nback:].map({'SS':-2, 'S':-1, 'N':0, 'B':1, 'SB':2})\n",
    "    c = ax.pcolorfast(ax.get_xlim(), ax.get_ylim(), sigs.values[np.newaxis], cmap='coolwarm', alpha=1)\n",
    "    c.set_clim(-2, 2)\n",
    "    cbar = f.colorbar(c, ticks=[-2,-1,0,1,2])\n",
    "    cbar.ax.set_yticklabels(['SS','S','N','B','SB']);\n",
    "    \n",
    "    \n",
    "def plot_perf(buysell, p, nback=52, strat={'SS':-1, 'S':-0.5, 'N':0, 'B':0.5, 'SB':1}):\n",
    "    perf = (buysell.shift(1).map(strat)*p.pct_change()).fillna(0)\n",
    "    perf = perf.iloc[-nback:]\n",
    "    perf.iloc[0] = 0\n",
    "    #(perf + 1).cumprod().plot(label='perf', legend=True)\n",
    "    #(p.iloc[-nback:] / p.iloc[-nback]).plot(label='p', legend=True)\n",
    "    sim = simul(buysell, p, strat)\n",
    "    sim_nav = sim.wealth\n",
    "    #(sim.iloc[-nback:] / sim.iloc[-nback]).plot(label='sim', legend=True)\n",
    "    \n",
    "    df = pd.DataFrame()\n",
    "    df['perf'] = (perf + 1).cumprod()\n",
    "    df['p'] = (p.iloc[-nback:] / p.iloc[-nback])\n",
    "    df['simul'] = (sim_nav.iloc[-nback:] / sim_nav.iloc[-nback])\n",
    "    df.plot()\n",
    "    return df, sim"
   ]
  },
  {
   "cell_type": "code",
   "execution_count": 131,
   "metadata": {},
   "outputs": [
    {
     "data": {
      "image/png": "[encoded data removed]",
      "text/plain": [
       "<Figure size 432x288 with 1 Axes>"
      ]
     },
     "metadata": {
      "needs_background": "light"
     },
     "output_type": "display_data"
    }
   ],
   "source": [
    "df, sim = plot_perf(buysell, p, nback=150, strat={'SS':0, 'S':0.25, 'N':0.5, 'B':1, 'SB':2})"
   ]
  },
  {
   "cell_type": "code",
   "execution_count": 132,
   "metadata": {},
   "outputs": [
    {
     "data": {
      "text/html": [
       "<div>\n",
       "<style scoped>\n",
       "    .dataframe tbody tr th:only-of-type {\n",
       "        vertical-align: middle;\n",
       "    }\n",
       "\n",
       "    .dataframe tbody tr th {\n",
       "        vertical-align: top;\n",
       "    }\n",
       "\n",
       "    .dataframe thead th {\n",
       "        text-align: right;\n",
       "    }\n",
       "</style>\n",
       "<table border=\"1\" class=\"dataframe\">\n",
       "  <thead>\n",
       "    <tr style=\"text-align: right;\">\n",
       "      <th></th>\n",
       "      <th>perf</th>\n",
       "      <th>p</th>\n",
       "      <th>simul</th>\n",
       "    </tr>\n",
       "    <tr>\n",
       "      <th>date</th>\n",
       "      <th></th>\n",
       "      <th></th>\n",
       "      <th></th>\n",
       "    </tr>\n",
       "  </thead>\n",
       "  <tbody>\n",
       "    <tr>\n",
       "      <th>2017-08-27</th>\n",
       "      <td>1.000000</td>\n",
       "      <td>1.000000</td>\n",
       "      <td>1.000000</td>\n",
       "    </tr>\n",
       "    <tr>\n",
       "      <th>2017-09-03</th>\n",
       "      <td>1.052421</td>\n",
       "      <td>1.026210</td>\n",
       "      <td>1.026210</td>\n",
       "    </tr>\n",
       "    <tr>\n",
       "      <th>2017-09-10</th>\n",
       "      <td>0.982880</td>\n",
       "      <td>0.992306</td>\n",
       "      <td>0.992306</td>\n",
       "    </tr>\n",
       "    <tr>\n",
       "      <th>2017-09-17</th>\n",
       "      <td>0.986752</td>\n",
       "      <td>1.000125</td>\n",
       "      <td>0.498108</td>\n",
       "    </tr>\n",
       "    <tr>\n",
       "      <th>2017-09-24</th>\n",
       "      <td>0.937439</td>\n",
       "      <td>0.950144</td>\n",
       "      <td>0.473215</td>\n",
       "    </tr>\n",
       "    <tr>\n",
       "      <th>...</th>\n",
       "      <td>...</td>\n",
       "      <td>...</td>\n",
       "      <td>...</td>\n",
       "    </tr>\n",
       "    <tr>\n",
       "      <th>2020-06-07</th>\n",
       "      <td>2.319878</td>\n",
       "      <td>2.155034</td>\n",
       "      <td>0.971947</td>\n",
       "    </tr>\n",
       "    <tr>\n",
       "      <th>2020-06-14</th>\n",
       "      <td>2.422050</td>\n",
       "      <td>2.202490</td>\n",
       "      <td>1.986700</td>\n",
       "    </tr>\n",
       "    <tr>\n",
       "      <th>2020-06-21</th>\n",
       "      <td>2.578183</td>\n",
       "      <td>2.273479</td>\n",
       "      <td>2.050734</td>\n",
       "    </tr>\n",
       "    <tr>\n",
       "      <th>2020-06-28</th>\n",
       "      <td>2.635833</td>\n",
       "      <td>2.298898</td>\n",
       "      <td>2.073662</td>\n",
       "    </tr>\n",
       "    <tr>\n",
       "      <th>2020-07-05</th>\n",
       "      <td>2.792061</td>\n",
       "      <td>2.367027</td>\n",
       "      <td>2.135116</td>\n",
       "    </tr>\n",
       "  </tbody>\n",
       "</table>\n",
       "<p>150 rows × 3 columns</p>\n",
       "</div>"
      ],
      "text/plain": [
       "                perf         p     simul\n",
       "date                                    \n",
       "2017-08-27  1.000000  1.000000  1.000000\n",
       "2017-09-03  1.052421  1.026210  1.026210\n",
       "2017-09-10  0.982880  0.992306  0.992306\n",
       "2017-09-17  0.986752  1.000125  0.498108\n",
       "2017-09-24  0.937439  0.950144  0.473215\n",
       "...              ...       ...       ...\n",
       "2020-06-07  2.319878  2.155034  0.971947\n",
       "2020-06-14  2.422050  2.202490  1.986700\n",
       "2020-06-21  2.578183  2.273479  2.050734\n",
       "2020-06-28  2.635833  2.298898  2.073662\n",
       "2020-07-05  2.792061  2.367027  2.135116\n",
       "\n",
       "[150 rows x 3 columns]"
      ]
     },
     "execution_count": 132,
     "metadata": {},
     "output_type": "execute_result"
    }
   ],
   "source": [
    "df"
   ]
  },
  {
   "cell_type": "code",
   "execution_count": 133,
   "metadata": {},
   "outputs": [
    {
     "data": {
      "text/html": [
       "<div>\n",
       "<style scoped>\n",
       "    .dataframe tbody tr th:only-of-type {\n",
       "        vertical-align: middle;\n",
       "    }\n",
       "\n",
       "    .dataframe tbody tr th {\n",
       "        vertical-align: top;\n",
       "    }\n",
       "\n",
       "    .dataframe thead th {\n",
       "        text-align: right;\n",
       "    }\n",
       "</style>\n",
       "<table border=\"1\" class=\"dataframe\">\n",
       "  <thead>\n",
       "    <tr style=\"text-align: right;\">\n",
       "      <th></th>\n",
       "      <th>buysell</th>\n",
       "      <th>sig_change</th>\n",
       "      <th>p</th>\n",
       "      <th>hold</th>\n",
       "      <th>hold_lev</th>\n",
       "      <th>cash</th>\n",
       "      <th>nav</th>\n",
       "      <th>wealth</th>\n",
       "    </tr>\n",
       "    <tr>\n",
       "      <th>date</th>\n",
       "      <th></th>\n",
       "      <th></th>\n",
       "      <th></th>\n",
       "      <th></th>\n",
       "      <th></th>\n",
       "      <th></th>\n",
       "      <th></th>\n",
       "      <th></th>\n",
       "    </tr>\n",
       "  </thead>\n",
       "  <tbody>\n",
       "    <tr>\n",
       "      <th>2017-08-27</th>\n",
       "      <td>2.0</td>\n",
       "      <td>False</td>\n",
       "      <td>153.825897</td>\n",
       "      <td>0.010019</td>\n",
       "      <td>0.010019</td>\n",
       "      <td>0.000000</td>\n",
       "      <td>1.541128</td>\n",
       "      <td>3.082257</td>\n",
       "    </tr>\n",
       "    <tr>\n",
       "      <th>2017-09-03</th>\n",
       "      <td>2.0</td>\n",
       "      <td>False</td>\n",
       "      <td>157.857742</td>\n",
       "      <td>0.010019</td>\n",
       "      <td>0.010019</td>\n",
       "      <td>0.000000</td>\n",
       "      <td>1.581522</td>\n",
       "      <td>3.163044</td>\n",
       "    </tr>\n",
       "    <tr>\n",
       "      <th>2017-09-10</th>\n",
       "      <td>0.5</td>\n",
       "      <td>True</td>\n",
       "      <td>152.642319</td>\n",
       "      <td>0.005009</td>\n",
       "      <td>0.000000</td>\n",
       "      <td>0.764635</td>\n",
       "      <td>1.529271</td>\n",
       "      <td>3.058541</td>\n",
       "    </tr>\n",
       "    <tr>\n",
       "      <th>2017-09-17</th>\n",
       "      <td>1.0</td>\n",
       "      <td>True</td>\n",
       "      <td>153.845123</td>\n",
       "      <td>0.009979</td>\n",
       "      <td>0.000000</td>\n",
       "      <td>0.000000</td>\n",
       "      <td>1.535296</td>\n",
       "      <td>1.535296</td>\n",
       "    </tr>\n",
       "    <tr>\n",
       "      <th>2017-09-24</th>\n",
       "      <td>0.5</td>\n",
       "      <td>True</td>\n",
       "      <td>146.156723</td>\n",
       "      <td>0.004990</td>\n",
       "      <td>0.000000</td>\n",
       "      <td>0.729285</td>\n",
       "      <td>1.458569</td>\n",
       "      <td>1.458569</td>\n",
       "    </tr>\n",
       "    <tr>\n",
       "      <th>...</th>\n",
       "      <td>...</td>\n",
       "      <td>...</td>\n",
       "      <td>...</td>\n",
       "      <td>...</td>\n",
       "      <td>...</td>\n",
       "      <td>...</td>\n",
       "      <td>...</td>\n",
       "      <td>...</td>\n",
       "    </tr>\n",
       "    <tr>\n",
       "      <th>2020-06-07</th>\n",
       "      <td>2.0</td>\n",
       "      <td>True</td>\n",
       "      <td>331.500000</td>\n",
       "      <td>0.009037</td>\n",
       "      <td>0.009037</td>\n",
       "      <td>0.000000</td>\n",
       "      <td>2.995790</td>\n",
       "      <td>2.995790</td>\n",
       "    </tr>\n",
       "    <tr>\n",
       "      <th>2020-06-14</th>\n",
       "      <td>2.0</td>\n",
       "      <td>False</td>\n",
       "      <td>338.799988</td>\n",
       "      <td>0.009037</td>\n",
       "      <td>0.009037</td>\n",
       "      <td>0.000000</td>\n",
       "      <td>3.061760</td>\n",
       "      <td>6.123520</td>\n",
       "    </tr>\n",
       "    <tr>\n",
       "      <th>2020-06-21</th>\n",
       "      <td>2.0</td>\n",
       "      <td>False</td>\n",
       "      <td>349.720001</td>\n",
       "      <td>0.009037</td>\n",
       "      <td>0.009037</td>\n",
       "      <td>0.000000</td>\n",
       "      <td>3.160445</td>\n",
       "      <td>6.320890</td>\n",
       "    </tr>\n",
       "    <tr>\n",
       "      <th>2020-06-28</th>\n",
       "      <td>2.0</td>\n",
       "      <td>False</td>\n",
       "      <td>353.630005</td>\n",
       "      <td>0.009037</td>\n",
       "      <td>0.009037</td>\n",
       "      <td>0.000000</td>\n",
       "      <td>3.195780</td>\n",
       "      <td>6.391560</td>\n",
       "    </tr>\n",
       "    <tr>\n",
       "      <th>2020-07-05</th>\n",
       "      <td>2.0</td>\n",
       "      <td>False</td>\n",
       "      <td>364.109985</td>\n",
       "      <td>0.009037</td>\n",
       "      <td>0.009037</td>\n",
       "      <td>0.000000</td>\n",
       "      <td>3.290489</td>\n",
       "      <td>6.580977</td>\n",
       "    </tr>\n",
       "  </tbody>\n",
       "</table>\n",
       "<p>150 rows × 8 columns</p>\n",
       "</div>"
      ],
      "text/plain": [
       "            buysell  sig_change           p      hold  hold_lev      cash  \\\n",
       "date                                                                        \n",
       "2017-08-27      2.0       False  153.825897  0.010019  0.010019  0.000000   \n",
       "2017-09-03      2.0       False  157.857742  0.010019  0.010019  0.000000   \n",
       "2017-09-10      0.5        True  152.642319  0.005009  0.000000  0.764635   \n",
       "2017-09-17      1.0        True  153.845123  0.009979  0.000000  0.000000   \n",
       "2017-09-24      0.5        True  146.156723  0.004990  0.000000  0.729285   \n",
       "...             ...         ...         ...       ...       ...       ...   \n",
       "2020-06-07      2.0        True  331.500000  0.009037  0.009037  0.000000   \n",
       "2020-06-14      2.0       False  338.799988  0.009037  0.009037  0.000000   \n",
       "2020-06-21      2.0       False  349.720001  0.009037  0.009037  0.000000   \n",
       "2020-06-28      2.0       False  353.630005  0.009037  0.009037  0.000000   \n",
       "2020-07-05      2.0       False  364.109985  0.009037  0.009037  0.000000   \n",
       "\n",
       "                 nav    wealth  \n",
       "date                            \n",
       "2017-08-27  1.541128  3.082257  \n",
       "2017-09-03  1.581522  3.163044  \n",
       "2017-09-10  1.529271  3.058541  \n",
       "2017-09-17  1.535296  1.535296  \n",
       "2017-09-24  1.458569  1.458569  \n",
       "...              ...       ...  \n",
       "2020-06-07  2.995790  2.995790  \n",
       "2020-06-14  3.061760  6.123520  \n",
       "2020-06-21  3.160445  6.320890  \n",
       "2020-06-28  3.195780  6.391560  \n",
       "2020-07-05  3.290489  6.580977  \n",
       "\n",
       "[150 rows x 8 columns]"
      ]
     },
     "execution_count": 133,
     "metadata": {},
     "output_type": "execute_result"
    }
   ],
   "source": [
    "sim.iloc[-150:]"
   ]
  },
  {
   "cell_type": "code",
   "execution_count": 126,
   "metadata": {},
   "outputs": [
    {
     "data": {
      "text/plain": [
       "1.5293233940609998"
      ]
     },
     "execution_count": 126,
     "metadata": {},
     "output_type": "execute_result"
    }
   ],
   "source": [
    "152.642319*0.010019"
   ]
  },
  {
   "cell_type": "code",
   "execution_count": 112,
   "metadata": {},
   "outputs": [
    {
     "data": {
      "text/plain": [
       "date\n",
       "2017-08-27    SB\n",
       "2017-09-03    SB\n",
       "2017-09-10     N\n",
       "2017-09-17     B\n",
       "2017-09-24     N\n",
       "              ..\n",
       "2020-06-07    SB\n",
       "2020-06-14    SB\n",
       "2020-06-21    SB\n",
       "2020-06-28    SB\n",
       "2020-07-05    SB\n",
       "Freq: W-SUN, Length: 150, dtype: object"
      ]
     },
     "execution_count": 112,
     "metadata": {},
     "output_type": "execute_result"
    }
   ],
   "source": [
    "buysell.iloc[-150:]"
   ]
  },
  {
   "cell_type": "code",
   "execution_count": 127,
   "metadata": {
    "scrolled": true
   },
   "outputs": [],
   "source": [
    "def simul(buysell, p, strat):\n",
    "    df = pd.DataFrame()\n",
    "    df['buysell'] = buysell.map(strat)\n",
    "    df['sig_change'] = (buysell != buysell.shift(1))\n",
    "    df['p'] = p\n",
    "    \n",
    "    hold = []\n",
    "    lev = []\n",
    "    cash = []\n",
    "    nav = []\n",
    "\n",
    "    for record in df.itertuples():\n",
    "        try:\n",
    "            _hold_prev = hold[-1]\n",
    "            _cash_prev = cash[-1]\n",
    "            _nav = (record.p * _hold_prev) + _cash_prev\n",
    "\n",
    "        except:\n",
    "            _nav = 1\n",
    "\n",
    "        if True:#record.sig_change:\n",
    "            _cash = _nav * (1 - min(1,record.buysell))\n",
    "            _lev = _nav * (max(1,record.buysell) - 1)\n",
    "            _hold = (_nav - _cash) / record.p\n",
    "            _hold_lev = _lev / record.p\n",
    "\n",
    "        else:\n",
    "            _cash = _cash_prev\n",
    "            _hold = _hold_prev\n",
    "            _hold_lev = hold_lev_prev\n",
    "\n",
    "        hold.append(_hold)\n",
    "        hold_lev.append(_hold_lev)\n",
    "        cash.append(_cash)\n",
    "        nav.append(_nav)\n",
    "\n",
    "    df['hold'] = hold\n",
    "    df['hold_lev'] = hold_lev\n",
    "    df['cash'] = cash\n",
    "    df['nav'] = nav\n",
    "    return df"
   ]
  },
  {
   "cell_type": "markdown",
   "metadata": {},
   "source": [
    "# 전역변수 설정"
   ]
  },
  {
   "cell_type": "code",
   "execution_count": 4,
   "metadata": {},
   "outputs": [],
   "source": [
    "asof = '2020-06-29'\n",
    "nweeks = 52*5"
   ]
  },
  {
   "cell_type": "markdown",
   "metadata": {},
   "source": [
    "# 데이터 쿼리"
   ]
  },
  {
   "cell_type": "code",
   "execution_count": 81,
   "metadata": {},
   "outputs": [
    {
     "name": "stdout",
     "output_type": "stream",
     "text": [
      "[*********************100%***********************]  1 of 1 completed\n"
     ]
    }
   ],
   "source": [
    "gtrend = get_gtrend(['AAPL'], asof=asof, nweeks=nweeks)\n",
    "p = get_p('AAPL', gtrend)"
   ]
  },
  {
   "cell_type": "code",
   "execution_count": 82,
   "metadata": {},
   "outputs": [
    {
     "data": {
      "image/png": "[encoded data removed]",
      "text/plain": [
       "<Figure size 432x288 with 2 Axes>"
      ]
     },
     "metadata": {
      "needs_background": "light"
     },
     "output_type": "display_data"
    }
   ],
   "source": [
    "plot_p_gtrend(p, gtrend, nback=52*3)"
   ]
  },
  {
   "cell_type": "markdown",
   "metadata": {},
   "source": [
    "# 시그널 만들기"
   ]
  },
  {
   "cell_type": "code",
   "execution_count": 83,
   "metadata": {},
   "outputs": [
    {
     "data": {
      "text/html": [
       "<div>\n",
       "<style scoped>\n",
       "    .dataframe tbody tr th:only-of-type {\n",
       "        vertical-align: middle;\n",
       "    }\n",
       "\n",
       "    .dataframe tbody tr th {\n",
       "        vertical-align: top;\n",
       "    }\n",
       "\n",
       "    .dataframe thead th {\n",
       "        text-align: right;\n",
       "    }\n",
       "</style>\n",
       "<table border=\"1\" class=\"dataframe\">\n",
       "  <thead>\n",
       "    <tr style=\"text-align: right;\">\n",
       "      <th></th>\n",
       "      <th>p</th>\n",
       "      <th>gtrend</th>\n",
       "    </tr>\n",
       "    <tr>\n",
       "      <th>date</th>\n",
       "      <th></th>\n",
       "      <th></th>\n",
       "    </tr>\n",
       "  </thead>\n",
       "  <tbody>\n",
       "    <tr>\n",
       "      <th>2016-07-10</th>\n",
       "      <td>3</td>\n",
       "      <td>3</td>\n",
       "    </tr>\n",
       "    <tr>\n",
       "      <th>2016-07-17</th>\n",
       "      <td>3</td>\n",
       "      <td>3</td>\n",
       "    </tr>\n",
       "    <tr>\n",
       "      <th>2016-07-24</th>\n",
       "      <td>3</td>\n",
       "      <td>3</td>\n",
       "    </tr>\n",
       "    <tr>\n",
       "      <th>2016-07-31</th>\n",
       "      <td>4</td>\n",
       "      <td>3</td>\n",
       "    </tr>\n",
       "    <tr>\n",
       "      <th>2016-08-07</th>\n",
       "      <td>4</td>\n",
       "      <td>3</td>\n",
       "    </tr>\n",
       "    <tr>\n",
       "      <th>...</th>\n",
       "      <td>...</td>\n",
       "      <td>...</td>\n",
       "    </tr>\n",
       "    <tr>\n",
       "      <th>2020-06-07</th>\n",
       "      <td>5</td>\n",
       "      <td>3</td>\n",
       "    </tr>\n",
       "    <tr>\n",
       "      <th>2020-06-14</th>\n",
       "      <td>5</td>\n",
       "      <td>3</td>\n",
       "    </tr>\n",
       "    <tr>\n",
       "      <th>2020-06-21</th>\n",
       "      <td>5</td>\n",
       "      <td>3</td>\n",
       "    </tr>\n",
       "    <tr>\n",
       "      <th>2020-06-28</th>\n",
       "      <td>5</td>\n",
       "      <td>3</td>\n",
       "    </tr>\n",
       "    <tr>\n",
       "      <th>2020-07-05</th>\n",
       "      <td>5</td>\n",
       "      <td>3</td>\n",
       "    </tr>\n",
       "  </tbody>\n",
       "</table>\n",
       "<p>209 rows × 2 columns</p>\n",
       "</div>"
      ],
      "text/plain": [
       "            p  gtrend\n",
       "date                 \n",
       "2016-07-10  3       3\n",
       "2016-07-17  3       3\n",
       "2016-07-24  3       3\n",
       "2016-07-31  4       3\n",
       "2016-08-07  4       3\n",
       "...        ..     ...\n",
       "2020-06-07  5       3\n",
       "2020-06-14  5       3\n",
       "2020-06-21  5       3\n",
       "2020-06-28  5       3\n",
       "2020-07-05  5       3\n",
       "\n",
       "[209 rows x 2 columns]"
      ]
     },
     "execution_count": 83,
     "metadata": {},
     "output_type": "execute_result"
    }
   ],
   "source": [
    "signal = pd.DataFrame()\n",
    "signal['p'] = get_signal(p)\n",
    "signal['gtrend'] = get_signal(gtrend); signal"
   ]
  },
  {
   "cell_type": "code",
   "execution_count": 84,
   "metadata": {},
   "outputs": [
    {
     "data": {
      "text/plain": [
       "date\n",
       "2016-07-10     N\n",
       "2016-07-17     N\n",
       "2016-07-24     N\n",
       "2016-07-31     B\n",
       "2016-08-07     B\n",
       "              ..\n",
       "2020-06-07    SB\n",
       "2020-06-14    SB\n",
       "2020-06-21    SB\n",
       "2020-06-28    SB\n",
       "2020-07-05    SB\n",
       "Freq: W-SUN, Length: 209, dtype: object"
      ]
     },
     "execution_count": 84,
     "metadata": {},
     "output_type": "execute_result"
    }
   ],
   "source": [
    "buysell = signal.apply(lambda x: lookup.at[x.gtrend, x.p], axis=1); buysell"
   ]
  },
  {
   "cell_type": "code",
   "execution_count": 85,
   "metadata": {},
   "outputs": [
    {
     "data": {
      "image/png": "[encoded data removed]",
      "text/plain": [
       "<Figure size 576x360 with 2 Axes>"
      ]
     },
     "metadata": {
      "needs_background": "light"
     },
     "output_type": "display_data"
    }
   ],
   "source": [
    "plot_buysell(buysell, p, nback=52)"
   ]
  },
  {
   "cell_type": "markdown",
   "metadata": {},
   "source": [
    "# 시그널의 유효성"
   ]
  },
  {
   "cell_type": "code",
   "execution_count": 86,
   "metadata": {},
   "outputs": [
    {
     "data": {
      "image/png": "[encoded data removed]",
      "text/plain": [
       "<Figure size 432x288 with 1 Axes>"
      ]
     },
     "metadata": {
      "needs_background": "light"
     },
     "output_type": "display_data"
    }
   ],
   "source": [
    "plot_perf(buysell, p, nback=150, strat={'SS':0, 'S':0.25, 'N':0.5, 'B':1, 'SB':2})"
   ]
  },
  {
   "cell_type": "markdown",
   "metadata": {},
   "source": [
    "# 이슈\n",
    "\n",
    "* 시그널 성과가 최소한 우상향 해야되지 않나?\n",
    "* 구글트렌드 데이터 문제\n",
    "    * 검색기간이 90일을 넘어가면 주간데이터로 자동변환\n",
    "    * 이번주 데이터가 언제 나오는지 불확실: 6월 29일(월) 현재, 지난주 데이터만 출력되고 있음\n",
    "* 구글트렌드는 stationary 한데... 52wh, 52wl 를 가격데이터와 비슷하게 취급하는게 맞나?"
   ]
  },
  {
   "cell_type": "code",
   "execution_count": null,
   "metadata": {},
   "outputs": [],
   "source": []
  },
  {
   "cell_type": "code",
   "execution_count": null,
   "metadata": {},
   "outputs": [],
   "source": []
  },
  {
   "cell_type": "code",
   "execution_count": 121,
   "metadata": {},
   "outputs": [
    {
     "data": {
      "text/plain": [
       "<matplotlib.axes._subplots.AxesSubplot at 0x1a261e81e88>"
      ]
     },
     "execution_count": 121,
     "metadata": {},
     "output_type": "execute_result"
    },
    {
     "data": {
      "image/png": "[encoded data removed]",
      "text/plain": [
       "<Figure size 432x288 with 1 Axes>"
      ]
     },
     "metadata": {
      "needs_background": "light"
     },
     "output_type": "display_data"
    }
   ],
   "source": [
    "((gtrend - gtrend.rolling(52).mean())).iloc[60:].cumsum().plot()"
   ]
  },
  {
   "cell_type": "code",
   "execution_count": 120,
   "metadata": {},
   "outputs": [
    {
     "data": {
      "text/plain": [
       "<matplotlib.axes._subplots.AxesSubplot at 0x1a261dad408>"
      ]
     },
     "execution_count": 120,
     "metadata": {},
     "output_type": "execute_result"
    },
    {
     "data": {
      "image/png": "[encoded data removed]",
      "text/plain": [
       "<Figure size 432x288 with 1 Axes>"
      ]
     },
     "metadata": {
      "needs_background": "light"
     },
     "output_type": "display_data"
    }
   ],
   "source": [
    "gtrend.iloc[60:].plot()"
   ]
  },
  {
   "cell_type": "code",
   "execution_count": null,
   "metadata": {},
   "outputs": [],
   "source": []
  }
 ],
 "metadata": {
  "kernelspec": {
   "display_name": "Python 3",
   "language": "python",
   "name": "python3"
  },
  "language_info": {
   "codemirror_mode": {
    "name": "ipython",
    "version": 3
   },
   "file_extension": ".py",
   "mimetype": "text/x-python",
   "name": "python",
   "nbconvert_exporter": "python",
   "pygments_lexer": "ipython3",
   "version": "3.7.1"
  }
 },
 "nbformat": 4,
 "nbformat_minor": 4
}

{
 "cells": [
  {
   "cell_type": "code",
   "execution_count": 1,
   "metadata": {},
   "outputs": [],
   "source": [
    "import pandas as pd\n",
    "import numpy as np\n",
    "import yfinance as yf\n",
    "import matplotlib.pyplot as plt\n",
    "from IPython.core.debugger import set_trace\n",
    "from pytrends.request import TrendReq"
   ]
  },
  {
   "cell_type": "markdown",
   "metadata": {},
   "source": [
    "# lookup table"
   ]
  },
  {
   "cell_type": "code",
   "execution_count": 2,
   "metadata": {},
   "outputs": [
    {
     "data": {
      "text/html": [
       "<div>\n",
       "<style scoped>\n",
       "    .dataframe tbody tr th:only-of-type {\n",
       "        vertical-align: middle;\n",
       "    }\n",
       "\n",
       "    .dataframe tbody tr th {\n",
       "        vertical-align: top;\n",
       "    }\n",
       "\n",
       "    .dataframe thead th {\n",
       "        text-align: right;\n",
       "    }\n",
       "</style>\n",
       "<table border=\"1\" class=\"dataframe\">\n",
       "  <thead>\n",
       "    <tr style=\"text-align: right;\">\n",
       "      <th>p</th>\n",
       "      <th>5</th>\n",
       "      <th>4</th>\n",
       "      <th>3</th>\n",
       "      <th>2</th>\n",
       "      <th>1</th>\n",
       "    </tr>\n",
       "    <tr>\n",
       "      <th>gtrend</th>\n",
       "      <th></th>\n",
       "      <th></th>\n",
       "      <th></th>\n",
       "      <th></th>\n",
       "      <th></th>\n",
       "    </tr>\n",
       "  </thead>\n",
       "  <tbody>\n",
       "    <tr>\n",
       "      <th>5</th>\n",
       "      <td>N</td>\n",
       "      <td>S</td>\n",
       "      <td>SS</td>\n",
       "      <td>S</td>\n",
       "      <td>N</td>\n",
       "    </tr>\n",
       "    <tr>\n",
       "      <th>4</th>\n",
       "      <td>B</td>\n",
       "      <td>N</td>\n",
       "      <td>S</td>\n",
       "      <td>SS</td>\n",
       "      <td>S</td>\n",
       "    </tr>\n",
       "    <tr>\n",
       "      <th>3</th>\n",
       "      <td>SB</td>\n",
       "      <td>B</td>\n",
       "      <td>N</td>\n",
       "      <td>S</td>\n",
       "      <td>SS</td>\n",
       "    </tr>\n",
       "    <tr>\n",
       "      <th>2</th>\n",
       "      <td>B</td>\n",
       "      <td>SB</td>\n",
       "      <td>B</td>\n",
       "      <td>N</td>\n",
       "      <td>S</td>\n",
       "    </tr>\n",
       "    <tr>\n",
       "      <th>1</th>\n",
       "      <td>N</td>\n",
       "      <td>B</td>\n",
       "      <td>SB</td>\n",
       "      <td>B</td>\n",
       "      <td>N</td>\n",
       "    </tr>\n",
       "  </tbody>\n",
       "</table>\n",
       "</div>"
      ],
      "text/plain": [
       "p        5   4   3   2   1\n",
       "gtrend                    \n",
       "5        N   S  SS   S   N\n",
       "4        B   N   S  SS   S\n",
       "3       SB   B   N   S  SS\n",
       "2        B  SB   B   N   S\n",
       "1        N   B  SB   B   N"
      ]
     },
     "execution_count": 2,
     "metadata": {},
     "output_type": "execute_result"
    }
   ],
   "source": [
    "lookup = [\n",
    "    ['N', 'S', 'SS','S', 'N'],\n",
    "    ['B', 'N', 'S', 'SS','S'],\n",
    "    ['SB','B', 'N', 'S', 'SS'],\n",
    "    ['B', 'SB','B', 'N', 'S'],\n",
    "    ['N', 'B', 'SB','B', 'N']\n",
    "]\n",
    "lookup = pd.DataFrame(lookup, index=[5,4,3,2,1], columns=[5,4,3,2,1])\n",
    "lookup.index.name = 'gtrend'\n",
    "lookup.columns.name = 'p'; lookup"
   ]
  },
  {
   "cell_type": "code",
   "execution_count": 3,
   "metadata": {},
   "outputs": [],
   "source": [
    "pt = TrendReq()"
   ]
  },
  {
   "cell_type": "code",
   "execution_count": 5,
   "metadata": {},
   "outputs": [],
   "source": [
    "pt.build_payload(['AAPL'], timeframe='today 5-y')"
   ]
  },
  {
   "cell_type": "code",
   "execution_count": 35,
   "metadata": {},
   "outputs": [
    {
     "ename": "TooManyRequestsError",
     "evalue": "The request failed: Google returned a response with code 429",
     "output_type": "error",
     "traceback": [
      "\u001b[1;31m---------------------------------------------------------------------------\u001b[0m",
      "\u001b[1;31mTooManyRequestsError\u001b[0m                      Traceback (most recent call last)",
      "\u001b[1;32m~\\AppData\\Local\\Temp\\ipykernel_4492\\946669159.py\u001b[0m in \u001b[0;36m<module>\u001b[1;34m\u001b[0m\n\u001b[1;32m----> 1\u001b[1;33m \u001b[0mpt\u001b[0m\u001b[1;33m.\u001b[0m\u001b[0minterest_over_time\u001b[0m\u001b[1;33m(\u001b[0m\u001b[1;33m)\u001b[0m\u001b[1;33m\u001b[0m\u001b[1;33m\u001b[0m\u001b[0m\n\u001b[0m",
      "\u001b[1;32mC:\\ProgramData\\Anaconda3\\lib\\site-packages\\pytrends\\request.py\u001b[0m in \u001b[0;36minterest_over_time\u001b[1;34m(self)\u001b[0m\n\u001b[0;32m    230\u001b[0m \u001b[1;33m\u001b[0m\u001b[0m\n\u001b[0;32m    231\u001b[0m         \u001b[1;31m# make the request and parse the returned json\u001b[0m\u001b[1;33m\u001b[0m\u001b[1;33m\u001b[0m\u001b[0m\n\u001b[1;32m--> 232\u001b[1;33m         req_json = self._get_data(\n\u001b[0m\u001b[0;32m    233\u001b[0m             \u001b[0murl\u001b[0m\u001b[1;33m=\u001b[0m\u001b[0mTrendReq\u001b[0m\u001b[1;33m.\u001b[0m\u001b[0mINTEREST_OVER_TIME_URL\u001b[0m\u001b[1;33m,\u001b[0m\u001b[1;33m\u001b[0m\u001b[1;33m\u001b[0m\u001b[0m\n\u001b[0;32m    234\u001b[0m             \u001b[0mmethod\u001b[0m\u001b[1;33m=\u001b[0m\u001b[0mTrendReq\u001b[0m\u001b[1;33m.\u001b[0m\u001b[0mGET_METHOD\u001b[0m\u001b[1;33m,\u001b[0m\u001b[1;33m\u001b[0m\u001b[1;33m\u001b[0m\u001b[0m\n",
      "\u001b[1;32mC:\\ProgramData\\Anaconda3\\lib\\site-packages\\pytrends\\request.py\u001b[0m in \u001b[0;36m_get_data\u001b[1;34m(self, url, method, trim_chars, **kwargs)\u001b[0m\n\u001b[0;32m    157\u001b[0m         \u001b[1;32melse\u001b[0m\u001b[1;33m:\u001b[0m\u001b[1;33m\u001b[0m\u001b[1;33m\u001b[0m\u001b[0m\n\u001b[0;32m    158\u001b[0m             \u001b[1;32mif\u001b[0m \u001b[0mresponse\u001b[0m\u001b[1;33m.\u001b[0m\u001b[0mstatus_code\u001b[0m \u001b[1;33m==\u001b[0m \u001b[0mstatus_codes\u001b[0m\u001b[1;33m.\u001b[0m\u001b[0mcodes\u001b[0m\u001b[1;33m.\u001b[0m\u001b[0mtoo_many_requests\u001b[0m\u001b[1;33m:\u001b[0m\u001b[1;33m\u001b[0m\u001b[1;33m\u001b[0m\u001b[0m\n\u001b[1;32m--> 159\u001b[1;33m                 \u001b[1;32mraise\u001b[0m \u001b[0mexceptions\u001b[0m\u001b[1;33m.\u001b[0m\u001b[0mTooManyRequestsError\u001b[0m\u001b[1;33m.\u001b[0m\u001b[0mfrom_response\u001b[0m\u001b[1;33m(\u001b[0m\u001b[0mresponse\u001b[0m\u001b[1;33m)\u001b[0m\u001b[1;33m\u001b[0m\u001b[1;33m\u001b[0m\u001b[0m\n\u001b[0m\u001b[0;32m    160\u001b[0m             \u001b[1;32mraise\u001b[0m \u001b[0mexceptions\u001b[0m\u001b[1;33m.\u001b[0m\u001b[0mResponseError\u001b[0m\u001b[1;33m.\u001b[0m\u001b[0mfrom_response\u001b[0m\u001b[1;33m(\u001b[0m\u001b[0mresponse\u001b[0m\u001b[1;33m)\u001b[0m\u001b[1;33m\u001b[0m\u001b[1;33m\u001b[0m\u001b[0m\n\u001b[0;32m    161\u001b[0m \u001b[1;33m\u001b[0m\u001b[0m\n",
      "\u001b[1;31mTooManyRequestsError\u001b[0m: The request failed: Google returned a response with code 429"
     ]
    }
   ],
   "source": [
    "pt.interest_over_time()"
   ]
  },
  {
   "cell_type": "code",
   "execution_count": 36,
   "metadata": {},
   "outputs": [
    {
     "data": {
      "text/plain": [
       "Timestamp('2018-07-05 00:00:00')"
      ]
     },
     "execution_count": 36,
     "metadata": {},
     "output_type": "execute_result"
    }
   ],
   "source": [
    "gtrend_from = pd.Timestamp(asof) - pd.Timedelta(weeks=nweeks)\n",
    "gtrend_from"
   ]
  },
  {
   "cell_type": "code",
   "execution_count": 37,
   "metadata": {},
   "outputs": [
    {
     "data": {
      "text/plain": [
       "'2018-07-05 2023-06-29'"
      ]
     },
     "execution_count": 37,
     "metadata": {},
     "output_type": "execute_result"
    }
   ],
   "source": [
    "timeframe = str(gtrend_from.date()) + ' ' + asof\n",
    "timeframe"
   ]
  },
  {
   "cell_type": "code",
   "execution_count": 41,
   "metadata": {},
   "outputs": [],
   "source": [
    "pytrends = TrendReq(hl='ko', tz=540)\n",
    "pytrends.build_payload(['AAPL'], timeframe=timeframe)"
   ]
  },
  {
   "cell_type": "code",
   "execution_count": 42,
   "metadata": {},
   "outputs": [
    {
     "ename": "TooManyRequestsError",
     "evalue": "The request failed: Google returned a response with code 429",
     "output_type": "error",
     "traceback": [
      "\u001b[1;31m---------------------------------------------------------------------------\u001b[0m",
      "\u001b[1;31mTooManyRequestsError\u001b[0m                      Traceback (most recent call last)",
      "\u001b[1;32m~\\AppData\\Local\\Temp\\ipykernel_4492\\478850724.py\u001b[0m in \u001b[0;36m<module>\u001b[1;34m\u001b[0m\n\u001b[1;32m----> 1\u001b[1;33m \u001b[0mpytrends\u001b[0m\u001b[1;33m.\u001b[0m\u001b[0minterest_over_time\u001b[0m\u001b[1;33m(\u001b[0m\u001b[1;33m)\u001b[0m\u001b[1;33m\u001b[0m\u001b[1;33m\u001b[0m\u001b[0m\n\u001b[0m",
      "\u001b[1;32mC:\\ProgramData\\Anaconda3\\lib\\site-packages\\pytrends\\request.py\u001b[0m in \u001b[0;36minterest_over_time\u001b[1;34m(self)\u001b[0m\n\u001b[0;32m    230\u001b[0m \u001b[1;33m\u001b[0m\u001b[0m\n\u001b[0;32m    231\u001b[0m         \u001b[1;31m# make the request and parse the returned json\u001b[0m\u001b[1;33m\u001b[0m\u001b[1;33m\u001b[0m\u001b[0m\n\u001b[1;32m--> 232\u001b[1;33m         req_json = self._get_data(\n\u001b[0m\u001b[0;32m    233\u001b[0m             \u001b[0murl\u001b[0m\u001b[1;33m=\u001b[0m\u001b[0mTrendReq\u001b[0m\u001b[1;33m.\u001b[0m\u001b[0mINTEREST_OVER_TIME_URL\u001b[0m\u001b[1;33m,\u001b[0m\u001b[1;33m\u001b[0m\u001b[1;33m\u001b[0m\u001b[0m\n\u001b[0;32m    234\u001b[0m             \u001b[0mmethod\u001b[0m\u001b[1;33m=\u001b[0m\u001b[0mTrendReq\u001b[0m\u001b[1;33m.\u001b[0m\u001b[0mGET_METHOD\u001b[0m\u001b[1;33m,\u001b[0m\u001b[1;33m\u001b[0m\u001b[1;33m\u001b[0m\u001b[0m\n",
      "\u001b[1;32mC:\\ProgramData\\Anaconda3\\lib\\site-packages\\pytrends\\request.py\u001b[0m in \u001b[0;36m_get_data\u001b[1;34m(self, url, method, trim_chars, **kwargs)\u001b[0m\n\u001b[0;32m    157\u001b[0m         \u001b[1;32melse\u001b[0m\u001b[1;33m:\u001b[0m\u001b[1;33m\u001b[0m\u001b[1;33m\u001b[0m\u001b[0m\n\u001b[0;32m    158\u001b[0m             \u001b[1;32mif\u001b[0m \u001b[0mresponse\u001b[0m\u001b[1;33m.\u001b[0m\u001b[0mstatus_code\u001b[0m \u001b[1;33m==\u001b[0m \u001b[0mstatus_codes\u001b[0m\u001b[1;33m.\u001b[0m\u001b[0mcodes\u001b[0m\u001b[1;33m.\u001b[0m\u001b[0mtoo_many_requests\u001b[0m\u001b[1;33m:\u001b[0m\u001b[1;33m\u001b[0m\u001b[1;33m\u001b[0m\u001b[0m\n\u001b[1;32m--> 159\u001b[1;33m                 \u001b[1;32mraise\u001b[0m \u001b[0mexceptions\u001b[0m\u001b[1;33m.\u001b[0m\u001b[0mTooManyRequestsError\u001b[0m\u001b[1;33m.\u001b[0m\u001b[0mfrom_response\u001b[0m\u001b[1;33m(\u001b[0m\u001b[0mresponse\u001b[0m\u001b[1;33m)\u001b[0m\u001b[1;33m\u001b[0m\u001b[1;33m\u001b[0m\u001b[0m\n\u001b[0m\u001b[0;32m    160\u001b[0m             \u001b[1;32mraise\u001b[0m \u001b[0mexceptions\u001b[0m\u001b[1;33m.\u001b[0m\u001b[0mResponseError\u001b[0m\u001b[1;33m.\u001b[0m\u001b[0mfrom_response\u001b[0m\u001b[1;33m(\u001b[0m\u001b[0mresponse\u001b[0m\u001b[1;33m)\u001b[0m\u001b[1;33m\u001b[0m\u001b[1;33m\u001b[0m\u001b[0m\n\u001b[0;32m    161\u001b[0m \u001b[1;33m\u001b[0m\u001b[0m\n",
      "\u001b[1;31mTooManyRequestsError\u001b[0m: The request failed: Google returned a response with code 429"
     ]
    }
   ],
   "source": [
    "pytrends.interest_over_time()"
   ]
  },
  {
   "cell_type": "code",
   "execution_count": null,
   "metadata": {},
   "outputs": [],
   "source": []
  },
  {
   "cell_type": "code",
   "execution_count": null,
   "metadata": {},
   "outputs": [],
   "source": []
  },
  {
   "cell_type": "code",
   "execution_count": 8,
   "metadata": {},
   "outputs": [],
   "source": [
    "def get_gtrend(search, asof, nweeks=52*5):\n",
    "    gtrend_from = pd.Timestamp(asof) - pd.Timedelta(weeks=nweeks)\n",
    "    timeframe = str(gtrend_from.date()) + ' ' + asof #today 5-y'\n",
    "    pytrends = TrendReq()\n",
    "    pytrends.build_payload(search, timeframe=timeframe)\n",
    "    resp = pytrends.interest_over_time()\n",
    "    gtrend = resp[search].sum(axis=1)\n",
    "    gtrend.index = gtrend.index.shift(7, freq='D')\n",
    "    return gtrend\n",
    "\n",
    "\n",
    "def get_p(symbol, gtrend):\n",
    "    _start = gtrend.index[0] - pd.Timedelta(weeks=1)\n",
    "    _end = gtrend.index[-1] + pd.Timedelta(weeks=1)\n",
    "    p = yf.download([symbol], start=_start, end=_end, thread=True)['Adj Close']\n",
    "    return p.reindex(gtrend.index, method='ffill')\n",
    "\n",
    "  \n",
    "def get_signal(s):\n",
    "    def evaluate(x):\n",
    "        if x['52wh']:\n",
    "            return 5\n",
    "\n",
    "        elif 0 < x['1w'] < x['4w'] < x['13w']:\n",
    "            return 4\n",
    "\n",
    "        elif x['52wl']:\n",
    "            return 1\n",
    "\n",
    "        elif 0 > x['1w'] > x['4w'] > x['13w']:\n",
    "            return 2\n",
    "\n",
    "        else:\n",
    "            return 3\n",
    "    \n",
    "    status = pd.DataFrame()\n",
    "    status['1w'] = s.pct_change(1)\n",
    "    status['4w'] = s.pct_change(4)\n",
    "    status['13w'] = s.pct_change(13)\n",
    "    status['52wh'] = (s.rolling(52, min_periods=52).max() == s)\n",
    "    status['52wl'] = (s.rolling(52, min_periods=52).min() == s)\n",
    "    status = status.iloc[51:]\n",
    "    \n",
    "    return status.apply(evaluate, axis=1)\n",
    "\n",
    "\n",
    "def get_buysell(p, gtrend):\n",
    "    signal = pd.DataFrame()\n",
    "    signal['p'] = get_signal(p)\n",
    "    signal['gtrend'] = get_signal(gtrend)\n",
    "    return signal.apply(lambda x: lookup.at[x.gtrend, x.p], axis=1)\n",
    "\n",
    "\n",
    "def get_hitratio(buysell, p, nback=52):\n",
    "    hit = pd.DataFrame()\n",
    "    hit['buysell'] = buysell.iloc[-nback:].shift(1)\n",
    "    hit['r'] = p.iloc[-nback:].pct_change()\n",
    "    hit['sb'] = (hit.buysell=='SB')\n",
    "    hit['b'] = hit.sb | (hit.buysell=='B')\n",
    "    hit['ss'] = (hit.buysell=='SS')\n",
    "    hit['s'] = hit.ss | (hit.buysell=='S')\n",
    "    hit['sb_ss'] = hit.sb | hit.ss\n",
    "    hit['b_s'] = hit.b | hit.s\n",
    "\n",
    "    hit['sb_up'] = (hit.sb) & (hit.r>0)\n",
    "    hit['b_up'] = (hit.b) & (hit.r>0)\n",
    "    hit['ss_down'] = (hit.ss) & (hit.r<0)\n",
    "    hit['s_down'] = (hit.s) & (hit.r<0)\n",
    "\n",
    "    hit['sb_up_ss_down'] = hit.sb_up | hit.ss_down\n",
    "    hit['b_up_s_down'] = hit.b_up | hit.s_down\n",
    "\n",
    "    hitratio = pd.DataFrame()\n",
    "    hitratio.loc['strong','buy'] = hit.sb_up.sum() / hit.sb.sum()\n",
    "    hitratio.loc['normal','buy'] = hit.b_up.sum() / hit.b.sum()\n",
    "    hitratio.loc['strong','sell'] = hit.ss_down.sum() / hit.ss.sum()\n",
    "    hitratio.loc['normal','sell'] = hit.s_down.sum() / hit.s.sum()\n",
    "    hitratio.loc['strong','buy or sell'] = hit.sb_up_ss_down.sum() / hit.sb_ss.sum()\n",
    "    hitratio.loc['normal','buy or sell'] = hit.b_up_s_down.sum() / hit.b_s.sum()\n",
    "    return hitratio    \n",
    "\n",
    "\n",
    "def plot_p_gtrend(p, gtrend, nback=52):\n",
    "    p.iloc[-nback:].plot(label='p', legend=True)\n",
    "    gtrend.iloc[-nback:].plot(secondary_y=True, label='gtrend', legend=True)\n",
    "\n",
    "    \n",
    "def plot_buysell(buysell, p, nback=52):\n",
    "    f, ax = plt.subplots(figsize=(8,5))\n",
    "    p.iloc[-nback:].plot(color='w', lw=3, ax=ax)\n",
    "    sigs = buysell.iloc[-nback:].map({'SS':-2, 'S':-1, 'N':0, 'B':1, 'SB':2})\n",
    "    c = ax.pcolorfast(ax.get_xlim(), ax.get_ylim(), sigs.values[np.newaxis], cmap='coolwarm', alpha=1)\n",
    "    c.set_clim(-2, 2)\n",
    "    cbar = f.colorbar(c, ticks=[-2,-1,0,1,2])\n",
    "    cbar.ax.set_yticklabels(['SS','S','N','B','SB']);\n",
    "    \n",
    "    \n",
    "def plot_perf(buysell, p, strat={'SS':0, 'S':0.25, 'N':0.5, 'B':1, 'SB':2}, nback=52):\n",
    "    p_normalized(p, nback=nback).plot(label='p', legend=True)\n",
    "    backtest_rebal_weekly(buysell, p, strat, nback=nback).plot(label='rebal weekly', legend=True)\n",
    "    backtest_rebal_when_new_signal(buysell, p, strat, nback=nback).nav.plot(label='rebal when new signal', legend=True)"
   ]
  },
  {
   "cell_type": "code",
   "execution_count": 9,
   "metadata": {},
   "outputs": [],
   "source": [
    "def p_normalized(p, nback=52):\n",
    "    return p.iloc[-nback:] / p.iloc[-nback]\n",
    "\n",
    "\n",
    "def backtest_rebal_weekly(buysell, p, strat, nback=52):\n",
    "    bt = (buysell.shift(1).map(strat)*p.pct_change()).fillna(0)\n",
    "    bt = bt.iloc[-nback:]\n",
    "    bt.iloc[0] = 0\n",
    "    return (bt + 1).cumprod()\n",
    "\n",
    "\n",
    "def backtest_rebal_when_new_signal(buysell, p, strat, nback=52):\n",
    "    bt = pd.DataFrame()\n",
    "    bt['buysell'] = buysell.iloc[-nback:].map(strat)\n",
    "    bt['p'] = p\n",
    "    \n",
    "    sig_change = (buysell.iloc[-nback:] != buysell.iloc[-nback:].shift(1))\n",
    "    sig_change.iloc[0] = True\n",
    "    bt['sig_change'] = sig_change\n",
    "    \n",
    "\n",
    "    hold = []\n",
    "    hold_lev = []\n",
    "    cash = []\n",
    "    nav = []\n",
    "\n",
    "    for i, record in enumerate(bt.itertuples()):\n",
    "        try:\n",
    "            _hold_prev = hold[-1]\n",
    "            _hold_lev_prev = hold_lev[-1]\n",
    "            _p_prev = bt.p.iloc[i-1]\n",
    "            _cash_prev = cash[-1]\n",
    "            _nav = (record.p * _hold_prev) + _cash_prev + (record.p - _p_prev) * _hold_lev_prev\n",
    "\n",
    "        except:\n",
    "            _nav = 1\n",
    "\n",
    "        if record.sig_change:\n",
    "            _cash = _nav * max(0, 1-record.buysell) #(1 - min(1, record.buysell))\n",
    "            _lev = _nav * max(0, record.buysell-1)\n",
    "            _hold = (_nav - _cash) / record.p\n",
    "            _hold_lev = _lev / record.p\n",
    "\n",
    "        else:\n",
    "            _cash = _cash_prev + (record.p - _p_prev) * _hold_lev_prev\n",
    "            _hold = _hold_prev\n",
    "            _hold_lev = _hold_lev_prev\n",
    "\n",
    "        hold.append(_hold)\n",
    "        hold_lev.append(_hold_lev)\n",
    "        cash.append(_cash)\n",
    "        nav.append(_nav)\n",
    "\n",
    "    bt['hold'] = hold\n",
    "    bt['hold_lev'] = hold_lev\n",
    "    bt['cash'] = cash\n",
    "    bt['nav'] = nav\n",
    "    return bt"
   ]
  },
  {
   "cell_type": "code",
   "execution_count": null,
   "metadata": {},
   "outputs": [],
   "source": []
  },
  {
   "cell_type": "code",
   "execution_count": null,
   "metadata": {},
   "outputs": [],
   "source": []
  },
  {
   "cell_type": "markdown",
   "metadata": {},
   "source": [
    "# 전역변수 설정"
   ]
  },
  {
   "cell_type": "code",
   "execution_count": 34,
   "metadata": {},
   "outputs": [],
   "source": [
    "asof = '2023-06-29'\n",
    "nweeks = 52*5"
   ]
  },
  {
   "cell_type": "markdown",
   "metadata": {},
   "source": [
    "# 데이터 쿼리"
   ]
  },
  {
   "cell_type": "code",
   "execution_count": 14,
   "metadata": {},
   "outputs": [
    {
     "ename": "TooManyRequestsError",
     "evalue": "The request failed: Google returned a response with code 429",
     "output_type": "error",
     "traceback": [
      "\u001b[1;31m---------------------------------------------------------------------------\u001b[0m",
      "\u001b[1;31mTooManyRequestsError\u001b[0m                      Traceback (most recent call last)",
      "\u001b[1;32m~\\AppData\\Local\\Temp\\ipykernel_4492\\3645686636.py\u001b[0m in \u001b[0;36m<module>\u001b[1;34m\u001b[0m\n\u001b[1;32m----> 1\u001b[1;33m \u001b[0mgtrend\u001b[0m \u001b[1;33m=\u001b[0m \u001b[0mget_gtrend\u001b[0m\u001b[1;33m(\u001b[0m\u001b[1;33m[\u001b[0m\u001b[1;34m'AAPL'\u001b[0m\u001b[1;33m]\u001b[0m\u001b[1;33m,\u001b[0m \u001b[0masof\u001b[0m\u001b[1;33m=\u001b[0m\u001b[0masof\u001b[0m\u001b[1;33m,\u001b[0m \u001b[0mnweeks\u001b[0m\u001b[1;33m=\u001b[0m\u001b[0mnweeks\u001b[0m\u001b[1;33m)\u001b[0m\u001b[1;33m\u001b[0m\u001b[1;33m\u001b[0m\u001b[0m\n\u001b[0m\u001b[0;32m      2\u001b[0m \u001b[0mp\u001b[0m \u001b[1;33m=\u001b[0m \u001b[0mget_p\u001b[0m\u001b[1;33m(\u001b[0m\u001b[1;34m'AAPL'\u001b[0m\u001b[1;33m,\u001b[0m \u001b[0mgtrend\u001b[0m\u001b[1;33m)\u001b[0m\u001b[1;33m\u001b[0m\u001b[1;33m\u001b[0m\u001b[0m\n",
      "\u001b[1;32m~\\AppData\\Local\\Temp\\ipykernel_4492\\4022605128.py\u001b[0m in \u001b[0;36mget_gtrend\u001b[1;34m(search, asof, nweeks)\u001b[0m\n\u001b[0;32m      4\u001b[0m     \u001b[0mpytrends\u001b[0m \u001b[1;33m=\u001b[0m \u001b[0mTrendReq\u001b[0m\u001b[1;33m(\u001b[0m\u001b[1;33m)\u001b[0m\u001b[1;33m\u001b[0m\u001b[1;33m\u001b[0m\u001b[0m\n\u001b[0;32m      5\u001b[0m     \u001b[0mpytrends\u001b[0m\u001b[1;33m.\u001b[0m\u001b[0mbuild_payload\u001b[0m\u001b[1;33m(\u001b[0m\u001b[0msearch\u001b[0m\u001b[1;33m,\u001b[0m \u001b[0mtimeframe\u001b[0m\u001b[1;33m=\u001b[0m\u001b[0mtimeframe\u001b[0m\u001b[1;33m)\u001b[0m\u001b[1;33m\u001b[0m\u001b[1;33m\u001b[0m\u001b[0m\n\u001b[1;32m----> 6\u001b[1;33m     \u001b[0mresp\u001b[0m \u001b[1;33m=\u001b[0m \u001b[0mpytrends\u001b[0m\u001b[1;33m.\u001b[0m\u001b[0minterest_over_time\u001b[0m\u001b[1;33m(\u001b[0m\u001b[1;33m)\u001b[0m\u001b[1;33m\u001b[0m\u001b[1;33m\u001b[0m\u001b[0m\n\u001b[0m\u001b[0;32m      7\u001b[0m     \u001b[0mgtrend\u001b[0m \u001b[1;33m=\u001b[0m \u001b[0mresp\u001b[0m\u001b[1;33m[\u001b[0m\u001b[0msearch\u001b[0m\u001b[1;33m]\u001b[0m\u001b[1;33m.\u001b[0m\u001b[0msum\u001b[0m\u001b[1;33m(\u001b[0m\u001b[0maxis\u001b[0m\u001b[1;33m=\u001b[0m\u001b[1;36m1\u001b[0m\u001b[1;33m)\u001b[0m\u001b[1;33m\u001b[0m\u001b[1;33m\u001b[0m\u001b[0m\n\u001b[0;32m      8\u001b[0m     \u001b[0mgtrend\u001b[0m\u001b[1;33m.\u001b[0m\u001b[0mindex\u001b[0m \u001b[1;33m=\u001b[0m \u001b[0mgtrend\u001b[0m\u001b[1;33m.\u001b[0m\u001b[0mindex\u001b[0m\u001b[1;33m.\u001b[0m\u001b[0mshift\u001b[0m\u001b[1;33m(\u001b[0m\u001b[1;36m7\u001b[0m\u001b[1;33m,\u001b[0m \u001b[0mfreq\u001b[0m\u001b[1;33m=\u001b[0m\u001b[1;34m'D'\u001b[0m\u001b[1;33m)\u001b[0m\u001b[1;33m\u001b[0m\u001b[1;33m\u001b[0m\u001b[0m\n",
      "\u001b[1;32mC:\\ProgramData\\Anaconda3\\lib\\site-packages\\pytrends\\request.py\u001b[0m in \u001b[0;36minterest_over_time\u001b[1;34m(self)\u001b[0m\n\u001b[0;32m    230\u001b[0m \u001b[1;33m\u001b[0m\u001b[0m\n\u001b[0;32m    231\u001b[0m         \u001b[1;31m# make the request and parse the returned json\u001b[0m\u001b[1;33m\u001b[0m\u001b[1;33m\u001b[0m\u001b[0m\n\u001b[1;32m--> 232\u001b[1;33m         req_json = self._get_data(\n\u001b[0m\u001b[0;32m    233\u001b[0m             \u001b[0murl\u001b[0m\u001b[1;33m=\u001b[0m\u001b[0mTrendReq\u001b[0m\u001b[1;33m.\u001b[0m\u001b[0mINTEREST_OVER_TIME_URL\u001b[0m\u001b[1;33m,\u001b[0m\u001b[1;33m\u001b[0m\u001b[1;33m\u001b[0m\u001b[0m\n\u001b[0;32m    234\u001b[0m             \u001b[0mmethod\u001b[0m\u001b[1;33m=\u001b[0m\u001b[0mTrendReq\u001b[0m\u001b[1;33m.\u001b[0m\u001b[0mGET_METHOD\u001b[0m\u001b[1;33m,\u001b[0m\u001b[1;33m\u001b[0m\u001b[1;33m\u001b[0m\u001b[0m\n",
      "\u001b[1;32mC:\\ProgramData\\Anaconda3\\lib\\site-packages\\pytrends\\request.py\u001b[0m in \u001b[0;36m_get_data\u001b[1;34m(self, url, method, trim_chars, **kwargs)\u001b[0m\n\u001b[0;32m    157\u001b[0m         \u001b[1;32melse\u001b[0m\u001b[1;33m:\u001b[0m\u001b[1;33m\u001b[0m\u001b[1;33m\u001b[0m\u001b[0m\n\u001b[0;32m    158\u001b[0m             \u001b[1;32mif\u001b[0m \u001b[0mresponse\u001b[0m\u001b[1;33m.\u001b[0m\u001b[0mstatus_code\u001b[0m \u001b[1;33m==\u001b[0m \u001b[0mstatus_codes\u001b[0m\u001b[1;33m.\u001b[0m\u001b[0mcodes\u001b[0m\u001b[1;33m.\u001b[0m\u001b[0mtoo_many_requests\u001b[0m\u001b[1;33m:\u001b[0m\u001b[1;33m\u001b[0m\u001b[1;33m\u001b[0m\u001b[0m\n\u001b[1;32m--> 159\u001b[1;33m                 \u001b[1;32mraise\u001b[0m \u001b[0mexceptions\u001b[0m\u001b[1;33m.\u001b[0m\u001b[0mTooManyRequestsError\u001b[0m\u001b[1;33m.\u001b[0m\u001b[0mfrom_response\u001b[0m\u001b[1;33m(\u001b[0m\u001b[0mresponse\u001b[0m\u001b[1;33m)\u001b[0m\u001b[1;33m\u001b[0m\u001b[1;33m\u001b[0m\u001b[0m\n\u001b[0m\u001b[0;32m    160\u001b[0m             \u001b[1;32mraise\u001b[0m \u001b[0mexceptions\u001b[0m\u001b[1;33m.\u001b[0m\u001b[0mResponseError\u001b[0m\u001b[1;33m.\u001b[0m\u001b[0mfrom_response\u001b[0m\u001b[1;33m(\u001b[0m\u001b[0mresponse\u001b[0m\u001b[1;33m)\u001b[0m\u001b[1;33m\u001b[0m\u001b[1;33m\u001b[0m\u001b[0m\n\u001b[0;32m    161\u001b[0m \u001b[1;33m\u001b[0m\u001b[0m\n",
      "\u001b[1;31mTooManyRequestsError\u001b[0m: The request failed: Google returned a response with code 429"
     ]
    }
   ],
   "source": [
    "gtrend = get_gtrend(['AAPL'], asof=asof, nweeks=nweeks)\n",
    "p = get_p('AAPL', gtrend)"
   ]
  },
  {
   "cell_type": "code",
   "execution_count": 7,
   "metadata": {},
   "outputs": [
    {
     "data": {
      "image/png": "[encoded data removed]",
      "text/plain": [
       "<Figure size 432x288 with 2 Axes>"
      ]
     },
     "metadata": {
      "needs_background": "light"
     },
     "output_type": "display_data"
    }
   ],
   "source": [
    "plot_p_gtrend(p, gtrend, nback=52*3)"
   ]
  },
  {
   "cell_type": "markdown",
   "metadata": {},
   "source": [
    "# 시그널 만들기"
   ]
  },
  {
   "cell_type": "code",
   "execution_count": 16,
   "metadata": {},
   "outputs": [
    {
     "data": {
      "text/plain": [
       "date\n",
       "2016-07-10     N\n",
       "2016-07-17     N\n",
       "2016-07-24     N\n",
       "2016-07-31     B\n",
       "2016-08-07     B\n",
       "              ..\n",
       "2020-06-07    SB\n",
       "2020-06-14    SB\n",
       "2020-06-21    SB\n",
       "2020-06-28    SB\n",
       "2020-07-05    SB\n",
       "Freq: W-SUN, Length: 209, dtype: object"
      ]
     },
     "execution_count": 16,
     "metadata": {},
     "output_type": "execute_result"
    }
   ],
   "source": [
    "buysell = get_buysell(p, gtrend); buysell"
   ]
  },
  {
   "cell_type": "code",
   "execution_count": 18,
   "metadata": {},
   "outputs": [
    {
     "data": {
      "image/png": "[encoded data removed]",
      "text/plain": [
       "<Figure size 576x360 with 2 Axes>"
      ]
     },
     "metadata": {
      "needs_background": "light"
     },
     "output_type": "display_data"
    }
   ],
   "source": [
    "plot_buysell(buysell, p, nback=52)"
   ]
  },
  {
   "cell_type": "markdown",
   "metadata": {},
   "source": [
    "# 시그널의 유효성"
   ]
  },
  {
   "cell_type": "code",
   "execution_count": 19,
   "metadata": {},
   "outputs": [
    {
     "data": {
      "image/png": "[encoded data removed]",
      "text/plain": [
       "<Figure size 432x288 with 1 Axes>"
      ]
     },
     "metadata": {
      "needs_background": "light"
     },
     "output_type": "display_data"
    }
   ],
   "source": [
    "plot_perf(buysell, p, strat={'SS':0, 'S':0.25, 'N':0.5, 'B':1, 'SB':2}, nback=52)"
   ]
  },
  {
   "cell_type": "code",
   "execution_count": 20,
   "metadata": {},
   "outputs": [
    {
     "data": {
      "text/html": [
       "<div>\n",
       "<style scoped>\n",
       "    .dataframe tbody tr th:only-of-type {\n",
       "        vertical-align: middle;\n",
       "    }\n",
       "\n",
       "    .dataframe tbody tr th {\n",
       "        vertical-align: top;\n",
       "    }\n",
       "\n",
       "    .dataframe thead th {\n",
       "        text-align: right;\n",
       "    }\n",
       "</style>\n",
       "<table border=\"1\" class=\"dataframe\">\n",
       "  <thead>\n",
       "    <tr style=\"text-align: right;\">\n",
       "      <th></th>\n",
       "      <th>buy</th>\n",
       "      <th>sell</th>\n",
       "      <th>buy or sell</th>\n",
       "    </tr>\n",
       "  </thead>\n",
       "  <tbody>\n",
       "    <tr>\n",
       "      <th>strong</th>\n",
       "      <td>0.857143</td>\n",
       "      <td>0.333333</td>\n",
       "      <td>0.791667</td>\n",
       "    </tr>\n",
       "    <tr>\n",
       "      <th>normal</th>\n",
       "      <td>0.840000</td>\n",
       "      <td>0.400000</td>\n",
       "      <td>0.766667</td>\n",
       "    </tr>\n",
       "  </tbody>\n",
       "</table>\n",
       "</div>"
      ],
      "text/plain": [
       "             buy      sell  buy or sell\n",
       "strong  0.857143  0.333333     0.791667\n",
       "normal  0.840000  0.400000     0.766667"
      ]
     },
     "execution_count": 20,
     "metadata": {},
     "output_type": "execute_result"
    }
   ],
   "source": [
    "get_hitratio(buysell, p, nback=52)"
   ]
  },
  {
   "cell_type": "code",
   "execution_count": null,
   "metadata": {},
   "outputs": [],
   "source": []
  },
  {
   "cell_type": "code",
   "execution_count": null,
   "metadata": {},
   "outputs": [],
   "source": []
  }
 ],
 "metadata": {
  "kernelspec": {
   "display_name": "Python 3 (ipykernel)",
   "language": "python",
   "name": "python3"
  },
  "language_info": {
   "codemirror_mode": {
    "name": "ipython",
    "version": 3
   },
   "file_extension": ".py",
   "mimetype": "text/x-python",
   "name": "python",
   "nbconvert_exporter": "python",
   "pygments_lexer": "ipython3",
   "version": "3.9.13"
  }
 },
 "nbformat": 4,
 "nbformat_minor": 4
}

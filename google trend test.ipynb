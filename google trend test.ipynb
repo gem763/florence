{
 "cells": [
  {
   "cell_type": "code",
   "execution_count": 1,
   "metadata": {},
   "outputs": [],
   "source": [
    "from pytrends.request import TrendReq\n",
    "import pandas as pd\n",
    "import numpy as np\n",
    "import yfinance as yf\n",
    "import matplotlib.pyplot as plt\n",
    "from IPython.core.debugger import set_trace"
   ]
  },
  {
   "cell_type": "markdown",
   "metadata": {},
   "source": [
    "# lookup table"
   ]
  },
  {
   "cell_type": "code",
   "execution_count": 2,
   "metadata": {},
   "outputs": [
    {
     "data": {
      "text/html": [
       "<div>\n",
       "<style scoped>\n",
       "    .dataframe tbody tr th:only-of-type {\n",
       "        vertical-align: middle;\n",
       "    }\n",
       "\n",
       "    .dataframe tbody tr th {\n",
       "        vertical-align: top;\n",
       "    }\n",
       "\n",
       "    .dataframe thead th {\n",
       "        text-align: right;\n",
       "    }\n",
       "</style>\n",
       "<table border=\"1\" class=\"dataframe\">\n",
       "  <thead>\n",
       "    <tr style=\"text-align: right;\">\n",
       "      <th>p</th>\n",
       "      <th>5</th>\n",
       "      <th>4</th>\n",
       "      <th>3</th>\n",
       "      <th>2</th>\n",
       "      <th>1</th>\n",
       "    </tr>\n",
       "    <tr>\n",
       "      <th>gtrend</th>\n",
       "      <th></th>\n",
       "      <th></th>\n",
       "      <th></th>\n",
       "      <th></th>\n",
       "      <th></th>\n",
       "    </tr>\n",
       "  </thead>\n",
       "  <tbody>\n",
       "    <tr>\n",
       "      <th>5</th>\n",
       "      <td>N</td>\n",
       "      <td>S</td>\n",
       "      <td>SS</td>\n",
       "      <td>S</td>\n",
       "      <td>N</td>\n",
       "    </tr>\n",
       "    <tr>\n",
       "      <th>4</th>\n",
       "      <td>B</td>\n",
       "      <td>N</td>\n",
       "      <td>S</td>\n",
       "      <td>SS</td>\n",
       "      <td>S</td>\n",
       "    </tr>\n",
       "    <tr>\n",
       "      <th>3</th>\n",
       "      <td>SB</td>\n",
       "      <td>B</td>\n",
       "      <td>N</td>\n",
       "      <td>S</td>\n",
       "      <td>SS</td>\n",
       "    </tr>\n",
       "    <tr>\n",
       "      <th>2</th>\n",
       "      <td>B</td>\n",
       "      <td>SB</td>\n",
       "      <td>B</td>\n",
       "      <td>N</td>\n",
       "      <td>S</td>\n",
       "    </tr>\n",
       "    <tr>\n",
       "      <th>1</th>\n",
       "      <td>N</td>\n",
       "      <td>B</td>\n",
       "      <td>SB</td>\n",
       "      <td>B</td>\n",
       "      <td>N</td>\n",
       "    </tr>\n",
       "  </tbody>\n",
       "</table>\n",
       "</div>"
      ],
      "text/plain": [
       "p        5   4   3   2   1\n",
       "gtrend                    \n",
       "5        N   S  SS   S   N\n",
       "4        B   N   S  SS   S\n",
       "3       SB   B   N   S  SS\n",
       "2        B  SB   B   N   S\n",
       "1        N   B  SB   B   N"
      ]
     },
     "execution_count": 2,
     "metadata": {},
     "output_type": "execute_result"
    }
   ],
   "source": [
    "lookup = [\n",
    "    ['N', 'S', 'SS','S', 'N'],\n",
    "    ['B', 'N', 'S', 'SS','S'],\n",
    "    ['SB','B', 'N', 'S', 'SS'],\n",
    "    ['B', 'SB','B', 'N', 'S'],\n",
    "    ['N', 'B', 'SB','B', 'N']\n",
    "]\n",
    "lookup = pd.DataFrame(lookup, index=[5,4,3,2,1], columns=[5,4,3,2,1])\n",
    "lookup.index.name = 'gtrend'\n",
    "lookup.columns.name = 'p'; lookup"
   ]
  },
  {
   "cell_type": "code",
   "execution_count": 3,
   "metadata": {},
   "outputs": [],
   "source": [
    "def get_gtrend(search, asof, nweeks=52*5):\n",
    "    gtrend_from = pd.Timestamp(asof) - pd.Timedelta(weeks=nweeks)\n",
    "    timeframe = str(gtrend_from.date()) + ' ' + asof #today 5-y'\n",
    "    pytrends = TrendReq()\n",
    "    pytrends.build_payload(search, timeframe=timeframe)\n",
    "    resp = pytrends.interest_over_time()\n",
    "    gtrend = resp[search].sum(axis=1)\n",
    "    gtrend.index = gtrend.index.shift(7, freq='D')\n",
    "    return gtrend\n",
    "\n",
    "\n",
    "def get_p(symbol, gtrend):\n",
    "    _start = gtrend.index[0] - pd.Timedelta(weeks=1)\n",
    "    _end = gtrend.index[-1] + pd.Timedelta(weeks=1)\n",
    "    p = yf.download([symbol], start=_start, end=_end, thread=True)['Adj Close']\n",
    "    return p.reindex(gtrend.index, method='ffill')\n",
    "\n",
    "\n",
    "def evaluate(x):\n",
    "    if x['52wh']:\n",
    "        return 5\n",
    "    \n",
    "    elif 0 < x['1w'] < x['4w'] < x['13w']:\n",
    "        return 4\n",
    "    \n",
    "    elif x['52wl']:\n",
    "        return 1\n",
    "    \n",
    "    elif 0 > x['1w'] > x['4w'] > x['13w']:\n",
    "        return 2\n",
    "    \n",
    "    else:\n",
    "        return 3\n",
    "    \n",
    "\n",
    "def get_signal(s):\n",
    "    status = pd.DataFrame()\n",
    "    status['1w'] = s.pct_change(1)\n",
    "    status['4w'] = s.pct_change(4)\n",
    "    status['13w'] = s.pct_change(13)\n",
    "    status['52wh'] = (s.rolling(52, min_periods=52).max() == s)\n",
    "    status['52wl'] = (s.rolling(52, min_periods=52).min() == s)\n",
    "    status = status.iloc[51:]\n",
    "    \n",
    "    return status.apply(evaluate, axis=1)\n",
    "\n",
    "\n",
    "def plot_p_gtrend(p, gtrend, nback=52):\n",
    "    p.iloc[-nback:].plot()\n",
    "    gtrend.iloc[-nback:].plot(secondary_y=True)\n",
    "\n",
    "    \n",
    "def plot_buysell(buysell, p, nback=52):\n",
    "    f, ax = plt.subplots(figsize=(8,5))\n",
    "    p.iloc[-nback:].plot(color='w', lw=3, ax=ax)\n",
    "    sigs = buysell.iloc[-nback:].map({'SS':-2, 'S':-1, 'N':0, 'B':1, 'SB':2})\n",
    "    c = ax.pcolorfast(ax.get_xlim(), ax.get_ylim(), sigs.values[np.newaxis], cmap='coolwarm', alpha=1)\n",
    "    c.set_clim(-2, 2)\n",
    "    cbar = f.colorbar(c, ticks=[-2,-1,0,1,2])\n",
    "    cbar.ax.set_yticklabels(['SS','S','N','B','SB']);\n",
    "    \n",
    "    \n",
    "def plot_perf(buysell, p, nback=52, strat={'SS':-1, 'S':-0.5, 'N':0, 'B':0.5, 'SB':1}):\n",
    "    perf = (buysell.shift(1).map(strat)*p.pct_change()).fillna(0)\n",
    "    perf = perf.iloc[-nback:]\n",
    "    perf.iloc[0] = 0\n",
    "    (perf + 1).cumprod().plot()\n",
    "    (p.iloc[-nback:] / p.iloc[-nback]).plot()"
   ]
  },
  {
   "cell_type": "markdown",
   "metadata": {},
   "source": [
    "# 전역변수 설정"
   ]
  },
  {
   "cell_type": "code",
   "execution_count": 4,
   "metadata": {},
   "outputs": [],
   "source": [
    "asof = '2020-06-29'\n",
    "nweeks = 52*5"
   ]
  },
  {
   "cell_type": "markdown",
   "metadata": {},
   "source": [
    "# 데이터 쿼리"
   ]
  },
  {
   "cell_type": "code",
   "execution_count": 6,
   "metadata": {},
   "outputs": [
    {
     "name": "stdout",
     "output_type": "stream",
     "text": [
      "[*********************100%***********************]  1 of 1 completed\n"
     ]
    }
   ],
   "source": [
    "gtrend = get_gtrend(['AAPL'], asof=asof, nweeks=nweeks)\n",
    "p = get_p('AAPL', gtrend)"
   ]
  },
  {
   "cell_type": "code",
   "execution_count": 7,
   "metadata": {},
   "outputs": [
    {
     "data": {
      "image/png": "[encoded data removed]",
      "text/plain": [
       "<Figure size 432x288 with 2 Axes>"
      ]
     },
     "metadata": {
      "needs_background": "light"
     },
     "output_type": "display_data"
    }
   ],
   "source": [
    "plot_p_gtrend(p, gtrend, nback=52)"
   ]
  },
  {
   "cell_type": "markdown",
   "metadata": {},
   "source": [
    "# 시그널 만들기"
   ]
  },
  {
   "cell_type": "code",
   "execution_count": 8,
   "metadata": {},
   "outputs": [
    {
     "data": {
      "text/html": [
       "<div>\n",
       "<style scoped>\n",
       "    .dataframe tbody tr th:only-of-type {\n",
       "        vertical-align: middle;\n",
       "    }\n",
       "\n",
       "    .dataframe tbody tr th {\n",
       "        vertical-align: top;\n",
       "    }\n",
       "\n",
       "    .dataframe thead th {\n",
       "        text-align: right;\n",
       "    }\n",
       "</style>\n",
       "<table border=\"1\" class=\"dataframe\">\n",
       "  <thead>\n",
       "    <tr style=\"text-align: right;\">\n",
       "      <th></th>\n",
       "      <th>p</th>\n",
       "      <th>gtrend</th>\n",
       "    </tr>\n",
       "    <tr>\n",
       "      <th>date</th>\n",
       "      <th></th>\n",
       "      <th></th>\n",
       "    </tr>\n",
       "  </thead>\n",
       "  <tbody>\n",
       "    <tr>\n",
       "      <th>2016-07-10</th>\n",
       "      <td>3</td>\n",
       "      <td>3</td>\n",
       "    </tr>\n",
       "    <tr>\n",
       "      <th>2016-07-17</th>\n",
       "      <td>3</td>\n",
       "      <td>3</td>\n",
       "    </tr>\n",
       "    <tr>\n",
       "      <th>2016-07-24</th>\n",
       "      <td>3</td>\n",
       "      <td>3</td>\n",
       "    </tr>\n",
       "    <tr>\n",
       "      <th>2016-07-31</th>\n",
       "      <td>4</td>\n",
       "      <td>3</td>\n",
       "    </tr>\n",
       "    <tr>\n",
       "      <th>2016-08-07</th>\n",
       "      <td>4</td>\n",
       "      <td>3</td>\n",
       "    </tr>\n",
       "    <tr>\n",
       "      <th>...</th>\n",
       "      <td>...</td>\n",
       "      <td>...</td>\n",
       "    </tr>\n",
       "    <tr>\n",
       "      <th>2020-05-31</th>\n",
       "      <td>3</td>\n",
       "      <td>2</td>\n",
       "    </tr>\n",
       "    <tr>\n",
       "      <th>2020-06-07</th>\n",
       "      <td>5</td>\n",
       "      <td>3</td>\n",
       "    </tr>\n",
       "    <tr>\n",
       "      <th>2020-06-14</th>\n",
       "      <td>5</td>\n",
       "      <td>3</td>\n",
       "    </tr>\n",
       "    <tr>\n",
       "      <th>2020-06-21</th>\n",
       "      <td>5</td>\n",
       "      <td>3</td>\n",
       "    </tr>\n",
       "    <tr>\n",
       "      <th>2020-06-28</th>\n",
       "      <td>5</td>\n",
       "      <td>3</td>\n",
       "    </tr>\n",
       "  </tbody>\n",
       "</table>\n",
       "<p>208 rows × 2 columns</p>\n",
       "</div>"
      ],
      "text/plain": [
       "            p  gtrend\n",
       "date                 \n",
       "2016-07-10  3       3\n",
       "2016-07-17  3       3\n",
       "2016-07-24  3       3\n",
       "2016-07-31  4       3\n",
       "2016-08-07  4       3\n",
       "...        ..     ...\n",
       "2020-05-31  3       2\n",
       "2020-06-07  5       3\n",
       "2020-06-14  5       3\n",
       "2020-06-21  5       3\n",
       "2020-06-28  5       3\n",
       "\n",
       "[208 rows x 2 columns]"
      ]
     },
     "execution_count": 8,
     "metadata": {},
     "output_type": "execute_result"
    }
   ],
   "source": [
    "signal = pd.DataFrame()\n",
    "signal['p'] = get_signal(p)\n",
    "signal['gtrend'] = get_signal(gtrend); signal"
   ]
  },
  {
   "cell_type": "code",
   "execution_count": 9,
   "metadata": {},
   "outputs": [
    {
     "data": {
      "text/plain": [
       "date\n",
       "2016-07-10     N\n",
       "2016-07-17     N\n",
       "2016-07-24     N\n",
       "2016-07-31     B\n",
       "2016-08-07     B\n",
       "              ..\n",
       "2020-05-31     B\n",
       "2020-06-07    SB\n",
       "2020-06-14    SB\n",
       "2020-06-21    SB\n",
       "2020-06-28    SB\n",
       "Freq: W-SUN, Length: 208, dtype: object"
      ]
     },
     "execution_count": 9,
     "metadata": {},
     "output_type": "execute_result"
    }
   ],
   "source": [
    "buysell = signal.apply(lambda x: lookup.at[x.gtrend, x.p], axis=1); buysell"
   ]
  },
  {
   "cell_type": "code",
   "execution_count": 10,
   "metadata": {},
   "outputs": [
    {
     "data": {
      "image/png": "[encoded data removed]",
      "text/plain": [
       "<Figure size 576x360 with 2 Axes>"
      ]
     },
     "metadata": {
      "needs_background": "light"
     },
     "output_type": "display_data"
    }
   ],
   "source": [
    "plot_buysell(buysell, p, nback=52)"
   ]
  },
  {
   "cell_type": "markdown",
   "metadata": {},
   "source": [
    "# 시그널의 유효성"
   ]
  },
  {
   "cell_type": "code",
   "execution_count": 11,
   "metadata": {
    "scrolled": true
   },
   "outputs": [
    {
     "data": {
      "image/png": "[encoded data removed]",
      "text/plain": [
       "<Figure size 432x288 with 1 Axes>"
      ]
     },
     "metadata": {
      "needs_background": "light"
     },
     "output_type": "display_data"
    }
   ],
   "source": [
    "plot_perf(buysell, p, nback=52, strat={'SS':-1, 'S':-0.5, 'N':0, 'B':0.5, 'SB':1})"
   ]
  },
  {
   "cell_type": "markdown",
   "metadata": {},
   "source": [
    "# 이슈\n",
    "\n",
    "* 시그널 성과가 최소한 우상향 해야되지 않나?\n",
    "* 구글트렌드 데이터 문제\n",
    "    * 검색기간이 90일을 넘어가면 주간데이터로 자동변환\n",
    "    * 이번주 데이터가 언제 나오는지 불확실: 6월 29일(월) 현재, 지난주 데이터만 출력되고 있음"
   ]
  },
  {
   "cell_type": "code",
   "execution_count": null,
   "metadata": {},
   "outputs": [],
   "source": []
  }
 ],
 "metadata": {
  "kernelspec": {
   "display_name": "Python 3",
   "language": "python",
   "name": "python3"
  },
  "language_info": {
   "codemirror_mode": {
    "name": "ipython",
    "version": 3
   },
   "file_extension": ".py",
   "mimetype": "text/x-python",
   "name": "python",
   "nbconvert_exporter": "python",
   "pygments_lexer": "ipython3",
   "version": "3.7.6"
  }
 },
 "nbformat": 4,
 "nbformat_minor": 4
}
